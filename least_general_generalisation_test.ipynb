{
 "cells": [
  {
   "cell_type": "code",
   "execution_count": 321,
   "outputs": [
    {
     "name": "stdout",
     "output_type": "stream",
     "text": [
      "1813\n"
     ]
    },
    {
     "data": {
      "text/plain": "     0     1     2    3     4     5     6     7     8     9   ...    48  \\\n0  0.00  0.64  0.64  0.0  0.32  0.00  0.00  0.00  0.00  0.00  ...  0.00   \n1  0.21  0.28  0.50  0.0  0.14  0.28  0.21  0.07  0.00  0.94  ...  0.00   \n2  0.06  0.00  0.71  0.0  1.23  0.19  0.19  0.12  0.64  0.25  ...  0.01   \n3  0.00  0.00  0.00  0.0  0.63  0.00  0.31  0.63  0.31  0.63  ...  0.00   \n4  0.00  0.00  0.00  0.0  0.63  0.00  0.31  0.63  0.31  0.63  ...  0.00   \n\n      49   50     51     52     53     54   55    56  57  \n0  0.000  0.0  0.778  0.000  0.000  3.756   61   278   1  \n1  0.132  0.0  0.372  0.180  0.048  5.114  101  1028   1  \n2  0.143  0.0  0.276  0.184  0.010  9.821  485  2259   1  \n3  0.137  0.0  0.137  0.000  0.000  3.537   40   191   1  \n4  0.135  0.0  0.135  0.000  0.000  3.537   40   191   1  \n\n[5 rows x 58 columns]",
      "text/html": "<div>\n<style scoped>\n    .dataframe tbody tr th:only-of-type {\n        vertical-align: middle;\n    }\n\n    .dataframe tbody tr th {\n        vertical-align: top;\n    }\n\n    .dataframe thead th {\n        text-align: right;\n    }\n</style>\n<table border=\"1\" class=\"dataframe\">\n  <thead>\n    <tr style=\"text-align: right;\">\n      <th></th>\n      <th>0</th>\n      <th>1</th>\n      <th>2</th>\n      <th>3</th>\n      <th>4</th>\n      <th>5</th>\n      <th>6</th>\n      <th>7</th>\n      <th>8</th>\n      <th>9</th>\n      <th>...</th>\n      <th>48</th>\n      <th>49</th>\n      <th>50</th>\n      <th>51</th>\n      <th>52</th>\n      <th>53</th>\n      <th>54</th>\n      <th>55</th>\n      <th>56</th>\n      <th>57</th>\n    </tr>\n  </thead>\n  <tbody>\n    <tr>\n      <th>0</th>\n      <td>0.00</td>\n      <td>0.64</td>\n      <td>0.64</td>\n      <td>0.0</td>\n      <td>0.32</td>\n      <td>0.00</td>\n      <td>0.00</td>\n      <td>0.00</td>\n      <td>0.00</td>\n      <td>0.00</td>\n      <td>...</td>\n      <td>0.00</td>\n      <td>0.000</td>\n      <td>0.0</td>\n      <td>0.778</td>\n      <td>0.000</td>\n      <td>0.000</td>\n      <td>3.756</td>\n      <td>61</td>\n      <td>278</td>\n      <td>1</td>\n    </tr>\n    <tr>\n      <th>1</th>\n      <td>0.21</td>\n      <td>0.28</td>\n      <td>0.50</td>\n      <td>0.0</td>\n      <td>0.14</td>\n      <td>0.28</td>\n      <td>0.21</td>\n      <td>0.07</td>\n      <td>0.00</td>\n      <td>0.94</td>\n      <td>...</td>\n      <td>0.00</td>\n      <td>0.132</td>\n      <td>0.0</td>\n      <td>0.372</td>\n      <td>0.180</td>\n      <td>0.048</td>\n      <td>5.114</td>\n      <td>101</td>\n      <td>1028</td>\n      <td>1</td>\n    </tr>\n    <tr>\n      <th>2</th>\n      <td>0.06</td>\n      <td>0.00</td>\n      <td>0.71</td>\n      <td>0.0</td>\n      <td>1.23</td>\n      <td>0.19</td>\n      <td>0.19</td>\n      <td>0.12</td>\n      <td>0.64</td>\n      <td>0.25</td>\n      <td>...</td>\n      <td>0.01</td>\n      <td>0.143</td>\n      <td>0.0</td>\n      <td>0.276</td>\n      <td>0.184</td>\n      <td>0.010</td>\n      <td>9.821</td>\n      <td>485</td>\n      <td>2259</td>\n      <td>1</td>\n    </tr>\n    <tr>\n      <th>3</th>\n      <td>0.00</td>\n      <td>0.00</td>\n      <td>0.00</td>\n      <td>0.0</td>\n      <td>0.63</td>\n      <td>0.00</td>\n      <td>0.31</td>\n      <td>0.63</td>\n      <td>0.31</td>\n      <td>0.63</td>\n      <td>...</td>\n      <td>0.00</td>\n      <td>0.137</td>\n      <td>0.0</td>\n      <td>0.137</td>\n      <td>0.000</td>\n      <td>0.000</td>\n      <td>3.537</td>\n      <td>40</td>\n      <td>191</td>\n      <td>1</td>\n    </tr>\n    <tr>\n      <th>4</th>\n      <td>0.00</td>\n      <td>0.00</td>\n      <td>0.00</td>\n      <td>0.0</td>\n      <td>0.63</td>\n      <td>0.00</td>\n      <td>0.31</td>\n      <td>0.63</td>\n      <td>0.31</td>\n      <td>0.63</td>\n      <td>...</td>\n      <td>0.00</td>\n      <td>0.135</td>\n      <td>0.0</td>\n      <td>0.135</td>\n      <td>0.000</td>\n      <td>0.000</td>\n      <td>3.537</td>\n      <td>40</td>\n      <td>191</td>\n      <td>1</td>\n    </tr>\n  </tbody>\n</table>\n<p>5 rows × 58 columns</p>\n</div>"
     },
     "execution_count": 321,
     "metadata": {},
     "output_type": "execute_result"
    }
   ],
   "source": [
    "from scipy import stats\n",
    "import pandas as pd\n",
    "import numpy as np\n",
    "from sklearn.preprocessing import KBinsDiscretizer\n",
    "from collections import Counter\n",
    "import matplotlib.pyplot as plt\n",
    "\n",
    "# create discretizer\n",
    "kbins = KBinsDiscretizer(n_bins=2, strategy='uniform', encode='ordinal')\n",
    "# read spambase.data into pandas dataframe\n",
    "df = pd.read_csv('spambase.data',header = None)\n",
    "\n",
    "df = df[(df[57] == 1)]\n",
    "\n",
    "print(len(df))\n",
    "df.head()\n",
    "#df[(df[0] <= 2.38)]"
   ],
   "metadata": {
    "collapsed": false,
    "pycharm": {
     "name": "#%%\n"
    }
   }
  },
  {
   "cell_type": "code",
   "execution_count": 322,
   "outputs": [
    {
     "name": "stdout",
     "output_type": "stream",
     "text": [
      "Working on column: 0\n",
      "Working on column: 1\n",
      "Working on column: 2\n",
      "Working on column: 3\n",
      "Working on column: 4\n",
      "Working on column: 5\n",
      "Working on column: 6\n",
      "Working on column: 7\n",
      "Working on column: 8\n",
      "Working on column: 9\n",
      "Working on column: 10\n",
      "Working on column: 11\n",
      "Working on column: 12\n",
      "Working on column: 13\n",
      "Working on column: 14\n",
      "Working on column: 15\n",
      "Working on column: 16\n",
      "Working on column: 17\n",
      "Working on column: 18\n",
      "Working on column: 19\n",
      "Working on column: 20\n",
      "Working on column: 21\n",
      "Working on column: 22\n",
      "Working on column: 23\n",
      "Working on column: 24\n",
      "Working on column: 25\n",
      "Working on column: 26\n",
      "Working on column: 27\n",
      "Working on column: 28\n",
      "Working on column: 29\n",
      "Working on column: 30\n",
      "Working on column: 31\n",
      "Working on column: 32\n",
      "Working on column: 33\n",
      "Working on column: 34\n",
      "Working on column: 35\n",
      "Working on column: 36\n",
      "Working on column: 37\n",
      "Working on column: 38\n",
      "Working on column: 39\n",
      "Working on column: 40\n",
      "Working on column: 41\n",
      "Working on column: 42\n",
      "Working on column: 43\n",
      "Working on column: 44\n",
      "Working on column: 45\n",
      "Working on column: 46\n",
      "Working on column: 47\n",
      "Working on column: 48\n",
      "Working on column: 49\n",
      "Working on column: 50\n",
      "Working on column: 51\n",
      "Working on column: 52\n",
      "Working on column: 53\n",
      "Working on column: 54\n",
      "Working on column: 55\n",
      "Working on column: 56\n",
      "Working on column: 57\n"
     ]
    },
    {
     "data": {
      "text/plain": "        0     1     2    3     4     5     6     7     8     9   ...     48  \\\n0     0.00  0.64  0.64  0.0  0.32  0.00  0.00  0.00  0.00  0.00  ...  0.000   \n1     0.21  0.28  0.50  0.0  0.14  0.28  0.21  0.07  0.00  0.94  ...  0.000   \n3     0.00  0.00  0.00  0.0  0.63  0.00  0.31  0.63  0.31  0.63  ...  0.000   \n4     0.00  0.00  0.00  0.0  0.63  0.00  0.31  0.63  0.31  0.63  ...  0.000   \n5     0.00  0.00  0.00  0.0  1.85  0.00  0.00  1.85  0.00  0.00  ...  0.000   \n...    ...   ...   ...  ...   ...   ...   ...   ...   ...   ...  ...    ...   \n1807  0.00  0.00  0.66  0.0  0.33  0.00  0.33  0.33  1.33  2.00  ...  0.000   \n1808  0.00  0.00  0.00  0.0  0.00  0.23  0.00  0.00  0.00  0.00  ...  0.077   \n1809  0.39  0.00  0.00  0.0  0.00  0.39  0.79  0.00  0.00  0.39  ...  0.000   \n1811  0.00  0.00  0.00  0.0  0.53  0.00  0.53  0.00  0.53  0.00  ...  0.000   \n1812  0.00  0.31  0.42  0.0  0.00  0.10  0.00  0.52  0.21  0.52  ...  0.000   \n\n         49   50     51     52     53     54   55    56  57  \n0     0.000  0.0  0.778  0.000  0.000  3.756   61   278   1  \n1     0.132  0.0  0.372  0.180  0.048  5.114  101  1028   1  \n3     0.137  0.0  0.137  0.000  0.000  3.537   40   191   1  \n4     0.135  0.0  0.135  0.000  0.000  3.537   40   191   1  \n5     0.223  0.0  0.000  0.000  0.000  3.000   15    54   1  \n...     ...  ...    ...    ...    ...    ...  ...   ...  ..  \n1807  0.230  0.0  0.057  0.230  0.000  5.279   82   227   1  \n1808  0.038  0.0  0.000  0.000  0.038  2.600   42   182   1  \n1809  0.064  0.0  0.640  0.192  0.000  2.740   13    74   1  \n1811  0.000  0.0  0.082  0.000  0.000  4.391   66   101   1  \n1812  0.016  0.0  0.887  0.032  0.049  3.446  318  1003   1  \n\n[1126 rows x 58 columns]",
      "text/html": "<div>\n<style scoped>\n    .dataframe tbody tr th:only-of-type {\n        vertical-align: middle;\n    }\n\n    .dataframe tbody tr th {\n        vertical-align: top;\n    }\n\n    .dataframe thead th {\n        text-align: right;\n    }\n</style>\n<table border=\"1\" class=\"dataframe\">\n  <thead>\n    <tr style=\"text-align: right;\">\n      <th></th>\n      <th>0</th>\n      <th>1</th>\n      <th>2</th>\n      <th>3</th>\n      <th>4</th>\n      <th>5</th>\n      <th>6</th>\n      <th>7</th>\n      <th>8</th>\n      <th>9</th>\n      <th>...</th>\n      <th>48</th>\n      <th>49</th>\n      <th>50</th>\n      <th>51</th>\n      <th>52</th>\n      <th>53</th>\n      <th>54</th>\n      <th>55</th>\n      <th>56</th>\n      <th>57</th>\n    </tr>\n  </thead>\n  <tbody>\n    <tr>\n      <th>0</th>\n      <td>0.00</td>\n      <td>0.64</td>\n      <td>0.64</td>\n      <td>0.0</td>\n      <td>0.32</td>\n      <td>0.00</td>\n      <td>0.00</td>\n      <td>0.00</td>\n      <td>0.00</td>\n      <td>0.00</td>\n      <td>...</td>\n      <td>0.000</td>\n      <td>0.000</td>\n      <td>0.0</td>\n      <td>0.778</td>\n      <td>0.000</td>\n      <td>0.000</td>\n      <td>3.756</td>\n      <td>61</td>\n      <td>278</td>\n      <td>1</td>\n    </tr>\n    <tr>\n      <th>1</th>\n      <td>0.21</td>\n      <td>0.28</td>\n      <td>0.50</td>\n      <td>0.0</td>\n      <td>0.14</td>\n      <td>0.28</td>\n      <td>0.21</td>\n      <td>0.07</td>\n      <td>0.00</td>\n      <td>0.94</td>\n      <td>...</td>\n      <td>0.000</td>\n      <td>0.132</td>\n      <td>0.0</td>\n      <td>0.372</td>\n      <td>0.180</td>\n      <td>0.048</td>\n      <td>5.114</td>\n      <td>101</td>\n      <td>1028</td>\n      <td>1</td>\n    </tr>\n    <tr>\n      <th>3</th>\n      <td>0.00</td>\n      <td>0.00</td>\n      <td>0.00</td>\n      <td>0.0</td>\n      <td>0.63</td>\n      <td>0.00</td>\n      <td>0.31</td>\n      <td>0.63</td>\n      <td>0.31</td>\n      <td>0.63</td>\n      <td>...</td>\n      <td>0.000</td>\n      <td>0.137</td>\n      <td>0.0</td>\n      <td>0.137</td>\n      <td>0.000</td>\n      <td>0.000</td>\n      <td>3.537</td>\n      <td>40</td>\n      <td>191</td>\n      <td>1</td>\n    </tr>\n    <tr>\n      <th>4</th>\n      <td>0.00</td>\n      <td>0.00</td>\n      <td>0.00</td>\n      <td>0.0</td>\n      <td>0.63</td>\n      <td>0.00</td>\n      <td>0.31</td>\n      <td>0.63</td>\n      <td>0.31</td>\n      <td>0.63</td>\n      <td>...</td>\n      <td>0.000</td>\n      <td>0.135</td>\n      <td>0.0</td>\n      <td>0.135</td>\n      <td>0.000</td>\n      <td>0.000</td>\n      <td>3.537</td>\n      <td>40</td>\n      <td>191</td>\n      <td>1</td>\n    </tr>\n    <tr>\n      <th>5</th>\n      <td>0.00</td>\n      <td>0.00</td>\n      <td>0.00</td>\n      <td>0.0</td>\n      <td>1.85</td>\n      <td>0.00</td>\n      <td>0.00</td>\n      <td>1.85</td>\n      <td>0.00</td>\n      <td>0.00</td>\n      <td>...</td>\n      <td>0.000</td>\n      <td>0.223</td>\n      <td>0.0</td>\n      <td>0.000</td>\n      <td>0.000</td>\n      <td>0.000</td>\n      <td>3.000</td>\n      <td>15</td>\n      <td>54</td>\n      <td>1</td>\n    </tr>\n    <tr>\n      <th>...</th>\n      <td>...</td>\n      <td>...</td>\n      <td>...</td>\n      <td>...</td>\n      <td>...</td>\n      <td>...</td>\n      <td>...</td>\n      <td>...</td>\n      <td>...</td>\n      <td>...</td>\n      <td>...</td>\n      <td>...</td>\n      <td>...</td>\n      <td>...</td>\n      <td>...</td>\n      <td>...</td>\n      <td>...</td>\n      <td>...</td>\n      <td>...</td>\n      <td>...</td>\n      <td>...</td>\n    </tr>\n    <tr>\n      <th>1807</th>\n      <td>0.00</td>\n      <td>0.00</td>\n      <td>0.66</td>\n      <td>0.0</td>\n      <td>0.33</td>\n      <td>0.00</td>\n      <td>0.33</td>\n      <td>0.33</td>\n      <td>1.33</td>\n      <td>2.00</td>\n      <td>...</td>\n      <td>0.000</td>\n      <td>0.230</td>\n      <td>0.0</td>\n      <td>0.057</td>\n      <td>0.230</td>\n      <td>0.000</td>\n      <td>5.279</td>\n      <td>82</td>\n      <td>227</td>\n      <td>1</td>\n    </tr>\n    <tr>\n      <th>1808</th>\n      <td>0.00</td>\n      <td>0.00</td>\n      <td>0.00</td>\n      <td>0.0</td>\n      <td>0.00</td>\n      <td>0.23</td>\n      <td>0.00</td>\n      <td>0.00</td>\n      <td>0.00</td>\n      <td>0.00</td>\n      <td>...</td>\n      <td>0.077</td>\n      <td>0.038</td>\n      <td>0.0</td>\n      <td>0.000</td>\n      <td>0.000</td>\n      <td>0.038</td>\n      <td>2.600</td>\n      <td>42</td>\n      <td>182</td>\n      <td>1</td>\n    </tr>\n    <tr>\n      <th>1809</th>\n      <td>0.39</td>\n      <td>0.00</td>\n      <td>0.00</td>\n      <td>0.0</td>\n      <td>0.00</td>\n      <td>0.39</td>\n      <td>0.79</td>\n      <td>0.00</td>\n      <td>0.00</td>\n      <td>0.39</td>\n      <td>...</td>\n      <td>0.000</td>\n      <td>0.064</td>\n      <td>0.0</td>\n      <td>0.640</td>\n      <td>0.192</td>\n      <td>0.000</td>\n      <td>2.740</td>\n      <td>13</td>\n      <td>74</td>\n      <td>1</td>\n    </tr>\n    <tr>\n      <th>1811</th>\n      <td>0.00</td>\n      <td>0.00</td>\n      <td>0.00</td>\n      <td>0.0</td>\n      <td>0.53</td>\n      <td>0.00</td>\n      <td>0.53</td>\n      <td>0.00</td>\n      <td>0.53</td>\n      <td>0.00</td>\n      <td>...</td>\n      <td>0.000</td>\n      <td>0.000</td>\n      <td>0.0</td>\n      <td>0.082</td>\n      <td>0.000</td>\n      <td>0.000</td>\n      <td>4.391</td>\n      <td>66</td>\n      <td>101</td>\n      <td>1</td>\n    </tr>\n    <tr>\n      <th>1812</th>\n      <td>0.00</td>\n      <td>0.31</td>\n      <td>0.42</td>\n      <td>0.0</td>\n      <td>0.00</td>\n      <td>0.10</td>\n      <td>0.00</td>\n      <td>0.52</td>\n      <td>0.21</td>\n      <td>0.52</td>\n      <td>...</td>\n      <td>0.000</td>\n      <td>0.016</td>\n      <td>0.0</td>\n      <td>0.887</td>\n      <td>0.032</td>\n      <td>0.049</td>\n      <td>3.446</td>\n      <td>318</td>\n      <td>1003</td>\n      <td>1</td>\n    </tr>\n  </tbody>\n</table>\n<p>1126 rows × 58 columns</p>\n</div>"
     },
     "execution_count": 322,
     "metadata": {},
     "output_type": "execute_result"
    }
   ],
   "source": [
    "def remove_outliers(df,columns,n_std):\n",
    "    for col in columns:\n",
    "        print('Working on column: {}'.format(col))\n",
    "        mean = df[col].mean()\n",
    "        sd = df[col].std()\n",
    "\n",
    "        df = df[(df[col] <= mean+(n_std*sd))]\n",
    "\n",
    "    return df\n",
    "\n",
    "df[(np.abs(stats.zscore(df)) < 0.1).all(axis=1)]\n",
    "df = remove_outliers(df, df.columns, 4)\n",
    "df"
   ],
   "metadata": {
    "collapsed": false,
    "pycharm": {
     "name": "#%%\n"
    }
   }
  },
  {
   "cell_type": "code",
   "execution_count": 323,
   "outputs": [],
   "source": [
    "def plot_bins(values):\n",
    "    \"\"\"visualizes the number of observations in each bin\"\"\"\n",
    "\n",
    "    counter = Counter(values)\n",
    "    plt.bar(counter.keys(), counter.values())\n",
    "    plt.xlabel('Bins')\n",
    "    plt.ylabel('Frequency')\n",
    "    plt.show()\n",
    "\n",
    "def show_bins(bins):\n",
    "    \"\"\"Shows the ranges of values the bins comprises\"\"\"\n",
    "\n",
    "    for i in range(len(bins)-1):\n",
    "        print(f'Bin {i}: {str(bins[i])} -> {str(bins[i+1])}')"
   ],
   "metadata": {
    "collapsed": false,
    "pycharm": {
     "name": "#%%\n"
    }
   }
  },
  {
   "cell_type": "code",
   "execution_count": 324,
   "outputs": [
    {
     "data": {
      "text/plain": "<Figure size 640x480 with 1 Axes>",
      "image/png": "[encoded data removed]"
     },
     "metadata": {},
     "output_type": "display_data"
    },
    {
     "name": "stdout",
     "output_type": "stream",
     "text": [
      "Bin 0: 0.0 -> 0.63\n",
      "Bin 1: 0.63 -> 1.26\n"
     ]
    }
   ],
   "source": [
    "#bins = [2, 2, 2, 2]\n",
    "att = df.iloc[:, 0:1]\n",
    "att_bin = kbins.fit_transform(np.array(att).reshape(-1,1))\n",
    "# show results\n",
    "plot_bins(Counter(list(att_bin.flatten())))\n",
    "show_bins(kbins.bin_edges_[0])"
   ],
   "metadata": {
    "collapsed": false,
    "pycharm": {
     "name": "#%%\n"
    }
   }
  },
  {
   "cell_type": "code",
   "execution_count": 325,
   "outputs": [
    {
     "name": "stderr",
     "output_type": "stream",
     "text": [
      "/usr/local/lib/python3.9/site-packages/sklearn/preprocessing/_discretization.py:257: UserWarning: Feature 0 is constant and will be replaced with 0.\n",
      "  warnings.warn(\n",
      "/usr/local/lib/python3.9/site-packages/sklearn/preprocessing/_discretization.py:257: UserWarning: Feature 0 is constant and will be replaced with 0.\n",
      "  warnings.warn(\n",
      "/usr/local/lib/python3.9/site-packages/sklearn/preprocessing/_discretization.py:257: UserWarning: Feature 0 is constant and will be replaced with 0.\n",
      "  warnings.warn(\n",
      "/usr/local/lib/python3.9/site-packages/sklearn/preprocessing/_discretization.py:257: UserWarning: Feature 0 is constant and will be replaced with 0.\n",
      "  warnings.warn(\n",
      "/usr/local/lib/python3.9/site-packages/sklearn/preprocessing/_discretization.py:257: UserWarning: Feature 0 is constant and will be replaced with 0.\n",
      "  warnings.warn(\n"
     ]
    },
    {
     "data": {
      "text/plain": "        0    1    2    3    4    5    6    7    8    9  ...   47   48   49  \\\n0     0.0  0.0  0.0  0.0  0.0  0.0  0.0  0.0  0.0  0.0  ...  0.0  0.0  0.0   \n1     0.0  0.0  0.0  0.0  0.0  0.0  0.0  0.0  0.0  0.0  ...  0.0  0.0  0.0   \n2     0.0  0.0  0.0  0.0  0.0  0.0  0.0  0.0  0.0  0.0  ...  0.0  0.0  0.0   \n3     0.0  0.0  0.0  0.0  0.0  0.0  0.0  0.0  0.0  0.0  ...  0.0  0.0  0.0   \n4     0.0  0.0  0.0  0.0  1.0  0.0  0.0  1.0  0.0  0.0  ...  0.0  0.0  0.0   \n...   ...  ...  ...  ...  ...  ...  ...  ...  ...  ...  ...  ...  ...  ...   \n1121  0.0  0.0  0.0  0.0  0.0  0.0  0.0  0.0  1.0  1.0  ...  0.0  0.0  0.0   \n1122  0.0  0.0  0.0  0.0  0.0  0.0  0.0  0.0  0.0  0.0  ...  0.0  0.0  0.0   \n1123  0.0  0.0  0.0  0.0  0.0  0.0  0.0  0.0  0.0  0.0  ...  0.0  0.0  0.0   \n1124  0.0  0.0  0.0  0.0  0.0  0.0  0.0  0.0  0.0  0.0  ...  0.0  0.0  0.0   \n1125  0.0  0.0  0.0  0.0  0.0  0.0  0.0  0.0  0.0  0.0  ...  0.0  0.0  0.0   \n\n       50   51   52   53   54   55   56  \n0     0.0  0.0  0.0  0.0  0.0  0.0  0.0  \n1     0.0  0.0  0.0  0.0  0.0  0.0  0.0  \n2     0.0  0.0  0.0  0.0  0.0  0.0  0.0  \n3     0.0  0.0  0.0  0.0  0.0  0.0  0.0  \n4     0.0  0.0  0.0  0.0  0.0  0.0  0.0  \n...   ...  ...  ...  ...  ...  ...  ...  \n1121  0.0  0.0  0.0  0.0  0.0  0.0  0.0  \n1122  0.0  0.0  0.0  0.0  0.0  0.0  0.0  \n1123  0.0  0.0  0.0  0.0  0.0  0.0  0.0  \n1124  0.0  0.0  0.0  0.0  0.0  0.0  0.0  \n1125  0.0  0.0  0.0  0.0  0.0  0.0  0.0  \n\n[1126 rows x 57 columns]",
      "text/html": "<div>\n<style scoped>\n    .dataframe tbody tr th:only-of-type {\n        vertical-align: middle;\n    }\n\n    .dataframe tbody tr th {\n        vertical-align: top;\n    }\n\n    .dataframe thead th {\n        text-align: right;\n    }\n</style>\n<table border=\"1\" class=\"dataframe\">\n  <thead>\n    <tr style=\"text-align: right;\">\n      <th></th>\n      <th>0</th>\n      <th>1</th>\n      <th>2</th>\n      <th>3</th>\n      <th>4</th>\n      <th>5</th>\n      <th>6</th>\n      <th>7</th>\n      <th>8</th>\n      <th>9</th>\n      <th>...</th>\n      <th>47</th>\n      <th>48</th>\n      <th>49</th>\n      <th>50</th>\n      <th>51</th>\n      <th>52</th>\n      <th>53</th>\n      <th>54</th>\n      <th>55</th>\n      <th>56</th>\n    </tr>\n  </thead>\n  <tbody>\n    <tr>\n      <th>0</th>\n      <td>0.0</td>\n      <td>0.0</td>\n      <td>0.0</td>\n      <td>0.0</td>\n      <td>0.0</td>\n      <td>0.0</td>\n      <td>0.0</td>\n      <td>0.0</td>\n      <td>0.0</td>\n      <td>0.0</td>\n      <td>...</td>\n      <td>0.0</td>\n      <td>0.0</td>\n      <td>0.0</td>\n      <td>0.0</td>\n      <td>0.0</td>\n      <td>0.0</td>\n      <td>0.0</td>\n      <td>0.0</td>\n      <td>0.0</td>\n      <td>0.0</td>\n    </tr>\n    <tr>\n      <th>1</th>\n      <td>0.0</td>\n      <td>0.0</td>\n      <td>0.0</td>\n      <td>0.0</td>\n      <td>0.0</td>\n      <td>0.0</td>\n      <td>0.0</td>\n      <td>0.0</td>\n      <td>0.0</td>\n      <td>0.0</td>\n      <td>...</td>\n      <td>0.0</td>\n      <td>0.0</td>\n      <td>0.0</td>\n      <td>0.0</td>\n      <td>0.0</td>\n      <td>0.0</td>\n      <td>0.0</td>\n      <td>0.0</td>\n      <td>0.0</td>\n      <td>0.0</td>\n    </tr>\n    <tr>\n      <th>2</th>\n      <td>0.0</td>\n      <td>0.0</td>\n      <td>0.0</td>\n      <td>0.0</td>\n      <td>0.0</td>\n      <td>0.0</td>\n      <td>0.0</td>\n      <td>0.0</td>\n      <td>0.0</td>\n      <td>0.0</td>\n      <td>...</td>\n      <td>0.0</td>\n      <td>0.0</td>\n      <td>0.0</td>\n      <td>0.0</td>\n      <td>0.0</td>\n      <td>0.0</td>\n      <td>0.0</td>\n      <td>0.0</td>\n      <td>0.0</td>\n      <td>0.0</td>\n    </tr>\n    <tr>\n      <th>3</th>\n      <td>0.0</td>\n      <td>0.0</td>\n      <td>0.0</td>\n      <td>0.0</td>\n      <td>0.0</td>\n      <td>0.0</td>\n      <td>0.0</td>\n      <td>0.0</td>\n      <td>0.0</td>\n      <td>0.0</td>\n      <td>...</td>\n      <td>0.0</td>\n      <td>0.0</td>\n      <td>0.0</td>\n      <td>0.0</td>\n      <td>0.0</td>\n      <td>0.0</td>\n      <td>0.0</td>\n      <td>0.0</td>\n      <td>0.0</td>\n      <td>0.0</td>\n    </tr>\n    <tr>\n      <th>4</th>\n      <td>0.0</td>\n      <td>0.0</td>\n      <td>0.0</td>\n      <td>0.0</td>\n      <td>1.0</td>\n      <td>0.0</td>\n      <td>0.0</td>\n      <td>1.0</td>\n      <td>0.0</td>\n      <td>0.0</td>\n      <td>...</td>\n      <td>0.0</td>\n      <td>0.0</td>\n      <td>0.0</td>\n      <td>0.0</td>\n      <td>0.0</td>\n      <td>0.0</td>\n      <td>0.0</td>\n      <td>0.0</td>\n      <td>0.0</td>\n      <td>0.0</td>\n    </tr>\n    <tr>\n      <th>...</th>\n      <td>...</td>\n      <td>...</td>\n      <td>...</td>\n      <td>...</td>\n      <td>...</td>\n      <td>...</td>\n      <td>...</td>\n      <td>...</td>\n      <td>...</td>\n      <td>...</td>\n      <td>...</td>\n      <td>...</td>\n      <td>...</td>\n      <td>...</td>\n      <td>...</td>\n      <td>...</td>\n      <td>...</td>\n      <td>...</td>\n      <td>...</td>\n      <td>...</td>\n      <td>...</td>\n    </tr>\n    <tr>\n      <th>1121</th>\n      <td>0.0</td>\n      <td>0.0</td>\n      <td>0.0</td>\n      <td>0.0</td>\n      <td>0.0</td>\n      <td>0.0</td>\n      <td>0.0</td>\n      <td>0.0</td>\n      <td>1.0</td>\n      <td>1.0</td>\n      <td>...</td>\n      <td>0.0</td>\n      <td>0.0</td>\n      <td>0.0</td>\n      <td>0.0</td>\n      <td>0.0</td>\n      <td>0.0</td>\n      <td>0.0</td>\n      <td>0.0</td>\n      <td>0.0</td>\n      <td>0.0</td>\n    </tr>\n    <tr>\n      <th>1122</th>\n      <td>0.0</td>\n      <td>0.0</td>\n      <td>0.0</td>\n      <td>0.0</td>\n      <td>0.0</td>\n      <td>0.0</td>\n      <td>0.0</td>\n      <td>0.0</td>\n      <td>0.0</td>\n      <td>0.0</td>\n      <td>...</td>\n      <td>0.0</td>\n      <td>0.0</td>\n      <td>0.0</td>\n      <td>0.0</td>\n      <td>0.0</td>\n      <td>0.0</td>\n      <td>0.0</td>\n      <td>0.0</td>\n      <td>0.0</td>\n      <td>0.0</td>\n    </tr>\n    <tr>\n      <th>1123</th>\n      <td>0.0</td>\n      <td>0.0</td>\n      <td>0.0</td>\n      <td>0.0</td>\n      <td>0.0</td>\n      <td>0.0</td>\n      <td>0.0</td>\n      <td>0.0</td>\n      <td>0.0</td>\n      <td>0.0</td>\n      <td>...</td>\n      <td>0.0</td>\n      <td>0.0</td>\n      <td>0.0</td>\n      <td>0.0</td>\n      <td>0.0</td>\n      <td>0.0</td>\n      <td>0.0</td>\n      <td>0.0</td>\n      <td>0.0</td>\n      <td>0.0</td>\n    </tr>\n    <tr>\n      <th>1124</th>\n      <td>0.0</td>\n      <td>0.0</td>\n      <td>0.0</td>\n      <td>0.0</td>\n      <td>0.0</td>\n      <td>0.0</td>\n      <td>0.0</td>\n      <td>0.0</td>\n      <td>0.0</td>\n      <td>0.0</td>\n      <td>...</td>\n      <td>0.0</td>\n      <td>0.0</td>\n      <td>0.0</td>\n      <td>0.0</td>\n      <td>0.0</td>\n      <td>0.0</td>\n      <td>0.0</td>\n      <td>0.0</td>\n      <td>0.0</td>\n      <td>0.0</td>\n    </tr>\n    <tr>\n      <th>1125</th>\n      <td>0.0</td>\n      <td>0.0</td>\n      <td>0.0</td>\n      <td>0.0</td>\n      <td>0.0</td>\n      <td>0.0</td>\n      <td>0.0</td>\n      <td>0.0</td>\n      <td>0.0</td>\n      <td>0.0</td>\n      <td>...</td>\n      <td>0.0</td>\n      <td>0.0</td>\n      <td>0.0</td>\n      <td>0.0</td>\n      <td>0.0</td>\n      <td>0.0</td>\n      <td>0.0</td>\n      <td>0.0</td>\n      <td>0.0</td>\n      <td>0.0</td>\n    </tr>\n  </tbody>\n</table>\n<p>1126 rows × 57 columns</p>\n</div>"
     },
     "execution_count": 325,
     "metadata": {},
     "output_type": "execute_result"
    }
   ],
   "source": [
    "# Equal-Width Discretization\n",
    "frames = []\n",
    "for i in range(0,57):\n",
    "    bin = kbins.fit_transform(np.array(df.iloc[:, i:i + 1]).reshape(-1,1))\n",
    "    frames.append(pd.DataFrame(bin, columns=[str(i)]))\n",
    "\n",
    "data = pd.concat(frames, axis=1)\n",
    "data\n",
    "#att1 = df.iloc[:, 0:1]\n",
    "#att2 = df.iloc[:, 1:2]\n",
    "#att_bin = kbins.fit_transform(np.array(att).reshape(-1,1))\n",
    "# att_bin48 = kbins.fit_transform(np.array(att48).reshape(-1,48))\n",
    "# att_bin54 = kbins.fit_transform(np.array(att54).reshape(-1,6))\n",
    "# att_bin55 = kbins.fit_transform(np.array(att55).reshape(-1,1))\n",
    "# att_bin56 = kbins.fit_transform(np.array(att56).reshape(-1,1))\n",
    "# att_bin57 = kbins.fit_transform(np.array(att57).reshape(-1,1))\n",
    "#print(len(att_bin))\n",
    "\n",
    "#att_bin_df = pd.DataFrame(att_bin)\n",
    "# att_bin_df48 = pd.DataFrame(att_bin48)\n",
    "# att_bin_df54 = pd.DataFrame(att_bin54)\n",
    "# att_bin_df55 = pd.DataFrame(att_bin55)\n",
    "# att_bin_df56 = pd.DataFrame(att_bin56)\n",
    "# att_bin_df57 = pd.DataFrame(att_bin57)\n",
    "#att_bin_df.head(100)\n",
    "# show results\n",
    "#plot_bins(Counter(list(att_bin.flatten())))\n",
    "#show_bins(kbins.bin_edges_[0])\n",
    "# frames = [att_bin_df48, att_bin_df54, att_bin_df55, att_bin_df56, att_bin_df57]\n",
    "\n",
    "#data = pd.concat(frames, axis=1)\n",
    "#data.head(100)\n"
   ],
   "metadata": {
    "collapsed": false,
    "pycharm": {
     "name": "#%%\n"
    }
   }
  },
  {
   "cell_type": "code",
   "execution_count": 326,
   "outputs": [
    {
     "name": "stdout",
     "output_type": "stream",
     "text": [
      "0 89\n",
      "1 56\n",
      "2 101\n",
      "3 2\n",
      "4 51\n",
      "5 67\n",
      "6 59\n",
      "7 37\n",
      "8 71\n",
      "9 47\n",
      "10 59\n",
      "11 100\n",
      "12 52\n",
      "13 50\n",
      "14 40\n",
      "15 58\n",
      "16 54\n",
      "17 105\n",
      "18 180\n",
      "19 41\n",
      "20 152\n",
      "21 8\n",
      "22 71\n",
      "23 50\n",
      "24 2\n",
      "25 3\n",
      "26 0\n",
      "27 2\n",
      "28 2\n",
      "29 1\n",
      "30 0\n",
      "31 0\n",
      "32 12\n",
      "33 2\n",
      "34 11\n",
      "35 23\n",
      "36 6\n",
      "37 6\n",
      "38 6\n",
      "39 33\n",
      "40 0\n",
      "41 3\n",
      "42 24\n",
      "43 4\n",
      "44 59\n",
      "45 1\n",
      "46 3\n",
      "47 0\n",
      "48 8\n",
      "49 27\n",
      "50 5\n",
      "51 63\n",
      "52 35\n",
      "53 12\n",
      "54 13\n",
      "55 65\n",
      "56 51\n"
     ]
    }
   ],
   "source": [
    "#df[(df[1] <= 7.14)]\n",
    "for k in range(0,57):\n",
    "    print(str(k) + \" \" + str(len(data[(data[str(k)] == 1)])))"
   ],
   "metadata": {
    "collapsed": false,
    "pycharm": {
     "name": "#%%\n"
    }
   }
  },
  {
   "cell_type": "code",
   "execution_count": 318,
   "outputs": [
    {
     "name": "stdout",
     "output_type": "stream",
     "text": [
      "0    -1.0\n",
      "1    -1.0\n",
      "2    -1.0\n",
      "3    -1.0\n",
      "4    -1.0\n",
      "5    -1.0\n",
      "6    -1.0\n",
      "7    -1.0\n",
      "8    -1.0\n",
      "9    -1.0\n",
      "10   -1.0\n",
      "11   -1.0\n",
      "12   -1.0\n",
      "13   -1.0\n",
      "14   -1.0\n",
      "15   -1.0\n",
      "16   -1.0\n",
      "17   -1.0\n",
      "18   -1.0\n",
      "19   -1.0\n",
      "20   -1.0\n",
      "21   -1.0\n",
      "22   -1.0\n",
      "23   -1.0\n",
      "24   -1.0\n",
      "25   -1.0\n",
      "26    0.0\n",
      "27   -1.0\n",
      "28   -1.0\n",
      "29   -1.0\n",
      "30    0.0\n",
      "31    0.0\n",
      "32   -1.0\n",
      "33   -1.0\n",
      "34   -1.0\n",
      "35   -1.0\n",
      "36   -1.0\n",
      "37   -1.0\n",
      "38   -1.0\n",
      "39   -1.0\n",
      "40    0.0\n",
      "41   -1.0\n",
      "42   -1.0\n",
      "43   -1.0\n",
      "44   -1.0\n",
      "45   -1.0\n",
      "46   -1.0\n",
      "47    0.0\n",
      "48   -1.0\n",
      "49   -1.0\n",
      "50   -1.0\n",
      "51   -1.0\n",
      "52   -1.0\n",
      "53   -1.0\n",
      "54   -1.0\n",
      "55   -1.0\n",
      "56   -1.0\n",
      "Name: 0, dtype: float64\n"
     ]
    }
   ],
   "source": [
    "def LGG(firstrow,row):\n",
    "    index = 0\n",
    "    for x,y in zip(list(firstrow),list(row)):\n",
    "        if x !=y:\n",
    "            firstrow[index]=-1\n",
    "        index = index+1\n",
    "    return firstrow\n",
    "\n",
    "def LGGSET(data):\n",
    "   firstrow=data.iloc[0:1,:]\n",
    "   for index, row in data.iterrows():\n",
    "       if index==0:\n",
    "           firstrow=row\n",
    "       else:\n",
    "            firstrow = LGG(firstrow,row)\n",
    "\n",
    "   return firstrow\n",
    "\n",
    "print(LGGSET(data))\n"
   ],
   "metadata": {
    "collapsed": false,
    "pycharm": {
     "name": "#%%\n"
    }
   }
  },
  {
   "cell_type": "code",
   "execution_count": null,
   "outputs": [],
   "source": [],
   "metadata": {
    "collapsed": false,
    "pycharm": {
     "name": "#%%\n"
    }
   }
  },
  {
   "cell_type": "code",
   "execution_count": null,
   "outputs": [],
   "source": [],
   "metadata": {
    "collapsed": false
   }
  }
 ],
 "metadata": {
  "kernelspec": {
   "display_name": "Python 3",
   "language": "python",
   "name": "python3"
  },
  "language_info": {
   "codemirror_mode": {
    "name": "ipython",
    "version": 2
   },
   "file_extension": ".py",
   "mimetype": "text/x-python",
   "name": "python",
   "nbconvert_exporter": "python",
   "pygments_lexer": "ipython2",
   "version": "2.7.6"
  }
 },
 "nbformat": 4,
 "nbformat_minor": 0
}